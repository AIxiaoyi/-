{
 "cells": [
  {
   "cell_type": "code",
   "execution_count": 12,
   "metadata": {},
   "outputs": [],
   "source": [
    "from sklearn.datasets import fetch_olivetti_faces\n",
    "from sklearn.model_selection import train_test_split\n",
    "import torch as torch\n",
    "import torch.nn as nn\n",
    "from mymodel import mymodel\n",
    "from customDataset import CustomDataset \n",
    "from torch.utils.data import DataLoader"
   ]
  },
  {
   "cell_type": "code",
   "execution_count": 14,
   "metadata": {},
   "outputs": [],
   "source": [
    "#超参数\n",
    "barch_size = 50\n",
    "#学习率\n",
    "lr = 0.001\n",
    "#训练次数\n",
    "epochs = 1000"
   ]
  },
  {
   "cell_type": "code",
   "execution_count": 17,
   "metadata": {},
   "outputs": [
    {
     "name": "stdout",
     "output_type": "stream",
     "text": [
      "(280, 4096)\n",
      "(120, 4096)\n",
      "(280,)\n",
      "[0.32231405 0.41322315 0.446281   ... 0.3181818  0.2892562  0.30578512]\n"
     ]
    }
   ],
   "source": [
    "olivetti_face = fetch_olivetti_faces(data_home='./data_face',shuffle=True)\n",
    "\n",
    "x = olivetti_face.data  # 400张图片，每个图片是64*64的灰度图，所以有4096个像素点\n",
    "y = olivetti_face.target  # 400张图片，每张图片对应的标签\n",
    "\n",
    "x_train,x_test,y_train,y_test = train_test_split(x,y,test_size=0.3,random_state=42)\n",
    "\n",
    "print(x_train.shape)\n",
    "print(x_test.shape)\n",
    "print(y_train.shape)\n",
    "train_ld = DataLoader([x_train,y_train],batch_size=barch_size,shuffle=True)\n",
    "print(train_ld.dataset[0][1])\n"
   ]
  },
  {
   "cell_type": "code",
   "execution_count": 4,
   "metadata": {},
   "outputs": [],
   "source": [
    "#超参数\n",
    "barch_size = 50\n",
    "#学习率\n",
    "lr = 0.001\n",
    "#训练次数\n",
    "epochs = 1000"
   ]
  },
  {
   "cell_type": "code",
   "execution_count": 5,
   "metadata": {},
   "outputs": [
    {
     "data": {
      "text/plain": [
       "mymodel(\n",
       "  (ln1): Linear(in_features=4096, out_features=2048, bias=True)\n",
       "  (ln2): Linear(in_features=2048, out_features=1024, bias=True)\n",
       "  (ln3): Linear(in_features=1024, out_features=512, bias=True)\n",
       "  (ln4): Linear(in_features=512, out_features=256, bias=True)\n",
       "  (ln5): Linear(in_features=256, out_features=128, bias=True)\n",
       "  (ln6): Linear(in_features=128, out_features=64, bias=True)\n",
       "  (rl): ReLU()\n",
       ")"
      ]
     },
     "execution_count": 5,
     "metadata": {},
     "output_type": "execute_result"
    }
   ],
   "source": [
    "\n",
    "diver = \"cuda\" if torch.cuda.is_available() else \"cpu\"\n",
    "\n",
    "model = mymodel()\n",
    "model.to(diver)\n",
    "\n"
   ]
  },
  {
   "cell_type": "code",
   "execution_count": null,
   "metadata": {},
   "outputs": [],
   "source": [
    "#损失函数\n",
    "loss =nn.CrossEntropyLoss() #交叉熵损失函数\n",
    "#优化器\n",
    "optimizer =torch.optim.SGD(model.parameters(),lr=lr)\n",
    "#获取数据集\n",
    "train_ld =CustomDataset(x_train,y_train)\n",
    "#加载数据\n"
   ]
  },
  {
   "cell_type": "code",
   "execution_count": 11,
   "metadata": {},
   "outputs": [],
   "source": [
    "model = nn.Sequential(\n",
    "    nn.Linear(4096,2048),\n",
    "    nn.ReLU(),\n",
    "    nn.Linear(2048,1024),\n",
    "    nn.ReLU(),\n",
    "    nn.Linear(1024,512),\n",
    "    nn.ReLU(),\n",
    "    nn.Linear(512,256),\n",
    "    nn.ReLU(),\n",
    "    nn.Linear(256,128),\n",
    "    nn.ReLU(),\n",
    "    nn.Linear(128,64)\n",
    ")"
   ]
  },
  {
   "cell_type": "code",
   "execution_count": null,
   "metadata": {},
   "outputs": [],
   "source": [
    "#训练模型\n",
    "\n",
    "for epoch in range(epochs):\n",
    "\n",
    "    model.train()\n",
    "\n",
    "    for data,label in train_ld:\n",
    "        data,target = data.to(diver),label.to(diver)\n",
    "\n",
    "        out = model(data.reshape(-1,64*64))\n",
    "        loss_value = loss(out,target)\n",
    "\n",
    "        #反向传播，梯度清零\n",
    "        optimizer.zero_grad()\n",
    "        #计算梯度\n",
    "        loss_value.backward()\n",
    "\n",
    "        #更新参数\n",
    "        optimizer.step()\n",
    "\n",
    "    if epoch % 10 == 0:\n",
    "        print('epoch:',epoch,'loss:',loss_value.item())    \n"
   ]
  }
 ],
 "metadata": {
  "kernelspec": {
   "display_name": "py312",
   "language": "python",
   "name": "python3"
  },
  "language_info": {
   "codemirror_mode": {
    "name": "ipython",
    "version": 3
   },
   "file_extension": ".py",
   "mimetype": "text/x-python",
   "name": "python",
   "nbconvert_exporter": "python",
   "pygments_lexer": "ipython3",
   "version": "3.12.9"
  }
 },
 "nbformat": 4,
 "nbformat_minor": 2
}
